{
 "cells": [
  {
   "cell_type": "markdown",
   "metadata": {},
   "source": [
    "### STOCK NLP\n",
    "\n",
    "project by Anthony Pirvuti\n",
    "\n",
    "- Aims to create an application that can measure the optimism surrounding a stock based on the wording used in a article\n",
    "- usage of nklt for nlp\n",
    "- selenium for webscrapping\n",
    "- flask for simple webpage\n",
    "\n"
   ]
  },
  {
   "cell_type": "code",
   "execution_count": 1,
   "metadata": {},
   "outputs": [
    {
     "name": "stderr",
     "output_type": "stream",
     "text": [
      "[nltk_data] Downloading package names to\n",
      "[nltk_data]     C:\\Users\\Anthony\\AppData\\Roaming\\nltk_data...\n",
      "[nltk_data]   Package names is already up-to-date!\n",
      "[nltk_data] Downloading package stopwords to\n",
      "[nltk_data]     C:\\Users\\Anthony\\AppData\\Roaming\\nltk_data...\n",
      "[nltk_data]   Package stopwords is already up-to-date!\n",
      "[nltk_data] Downloading package averaged_perceptron_tagger to\n",
      "[nltk_data]     C:\\Users\\Anthony\\AppData\\Roaming\\nltk_data...\n",
      "[nltk_data]   Package averaged_perceptron_tagger is already up-to-\n",
      "[nltk_data]       date!\n",
      "[nltk_data] Downloading package vader_lexicon to\n",
      "[nltk_data]     C:\\Users\\Anthony\\AppData\\Roaming\\nltk_data...\n",
      "[nltk_data]   Package vader_lexicon is already up-to-date!\n",
      "[nltk_data] Downloading package punkt to\n",
      "[nltk_data]     C:\\Users\\Anthony\\AppData\\Roaming\\nltk_data...\n",
      "[nltk_data]   Package punkt is already up-to-date!\n"
     ]
    },
    {
     "data": {
      "text/plain": [
       "True"
      ]
     },
     "execution_count": 1,
     "metadata": {},
     "output_type": "execute_result"
    }
   ],
   "source": [
    "import nltk\n",
    "import os\n",
    "import numpy as np\n",
    "import matplotlib.pyplot as plt\n",
    "from nltk.tokenize import word_tokenize\n",
    "from nltk.corpus import stopwords\n",
    "from nltk.tokenize import word_tokenize\n",
    "from nltk.sentiment import SentimentIntensityAnalyzer\n",
    "\n",
    "from ArticleScraper import scrape_yahoo_finance_articles\n",
    "\n",
    "from PersistentDict import PersistentDict\n",
    "\n",
    "# downloads\n",
    "nltk.download([ \"names\",\"stopwords\",\"averaged_perceptron_tagger\",\"vader_lexicon\",\"punkt\"])"
   ]
  },
  {
   "cell_type": "markdown",
   "metadata": {},
   "source": [
    "Access the articles"
   ]
  },
  {
   "cell_type": "code",
   "execution_count": 2,
   "metadata": {},
   "outputs": [],
   "source": [
    "yahoo_list = scrape_yahoo_finance_articles()"
   ]
  },
  {
   "cell_type": "markdown",
   "metadata": {},
   "source": [
    "Sentiment Analysis"
   ]
  },
  {
   "cell_type": "code",
   "execution_count": 3,
   "metadata": {},
   "outputs": [],
   "source": [
    "def sentimentAnalysis(filtered_words):\n",
    "    \"\"\"performs sentiment analysis on a given string of words\n",
    "\n",
    "    Args:\n",
    "        filtered_words (list(str)): list of filtered words\n",
    "\n",
    "    Returns:\n",
    "        list(list(str)): positive and negative words/scores\n",
    "    \"\"\"\n",
    "    sia = SentimentIntensityAnalyzer()\n",
    "    positive_words = []\n",
    "    positive_scores = []\n",
    "    negative_words = []\n",
    "    negative_scores = []\n",
    "\n",
    "    # for floating point precision\n",
    "    epsilon = 1e-5\n",
    "\n",
    "    for word in filtered_words:\n",
    "        scores = sia.polarity_scores(word)\n",
    "    \n",
    "        # check if the word is postive or not (ignore balanced words)\n",
    "        if (scores[\"compound\"] >= (0.15 + epsilon)):\n",
    "            positive_words.append(word)\n",
    "            positive_scores.append(scores[\"compound\"])\n",
    "        elif (scores[\"compound\"] <= (-0.15 - epsilon)):\n",
    "            negative_words.append(word)\n",
    "            negative_scores.append(scores[\"compound\"])\n",
    "    \n",
    "    return [positive_words, positive_scores, negative_words, negative_scores]"
   ]
  },
  {
   "cell_type": "markdown",
   "metadata": {},
   "source": [
    "Statsical Analysis"
   ]
  },
  {
   "cell_type": "code",
   "execution_count": 4,
   "metadata": {},
   "outputs": [],
   "source": [
    "# calculating weighted average of the words \n",
    "# words[i] * occurence of words[i] / total occurences\n",
    "\n",
    "def weightedAverage(filtered_words, sentiments):\n",
    "    \"\"\"calculates the weighted postive/negative average of a tokenized sentence\n",
    "\n",
    "    Args:\n",
    "        filtered_words (str): original tokenized string\n",
    "        sentiments (list(list(str)): collection of sentiment scores and words\n",
    "    \"\"\"\n",
    "    # sentiments = pos_words, pos_scores, neg_words, neg_scores\n",
    "    \n",
    "\n",
    "    # positive words\n",
    "    positive_weights = np.array([])\n",
    "    positive_scores = np.array(sentiments[1])\n",
    "\n",
    "    for word in sentiments[0]:\n",
    "        positive_weights = np.append(positive_weights, filtered_words.count(word))\n",
    "\n",
    "    positive_avg = np.average(positive_scores, weights=positive_weights) if len(positive_scores != 0) else 0.00\n",
    "\n",
    "\n",
    "    # negative words\n",
    "    negative_weights = np.array([])\n",
    "    negative_scores = np.array(sentiments[3])\n",
    "\n",
    "    for word in sentiments[2]:\n",
    "        negative_weights = np.append(negative_weights, filtered_words.count(word))\n",
    "\n",
    "    negative_avg = np.average(negative_scores, weights=negative_weights) if len(negative_scores != 0) else 0.00\n",
    "    \n",
    "    \n",
    "    return positive_avg, negative_avg\n",
    "    \n",
    "    \n",
    "    "
   ]
  },
  {
   "cell_type": "markdown",
   "metadata": {},
   "source": [
    "Initialize data access"
   ]
  },
  {
   "cell_type": "code",
   "execution_count": 5,
   "metadata": {},
   "outputs": [],
   "source": [
    "data_path = os.path.abspath('data.json')\n",
    "\n",
    "# accesses a json\n",
    "persistent_dict = PersistentDict(data_path)\n"
   ]
  },
  {
   "cell_type": "markdown",
   "metadata": {},
   "source": [
    "Proccess articles"
   ]
  },
  {
   "cell_type": "code",
   "execution_count": 6,
   "metadata": {},
   "outputs": [
    {
     "name": "stdout",
     "output_type": "stream",
     "text": [
      "author: yahoo finance, positive score: 0.0, negative average: -0.4019\n",
      "author: reuters, positive score: 0.0, negative average: -0.296\n",
      "author: yahoo finance, positive score: 0.4019, negative average: -0.2263\n",
      "author: yahoo finance, positive score: 0.0, negative average: -0.2023\n",
      "author: reuters, positive score: 0.0, negative average: 0.0\n"
     ]
    }
   ],
   "source": [
    "stop_words = set(stopwords.words(\"english\"))\n",
    "\n",
    "\n",
    "for article in yahoo_list:\n",
    "    author = article[0].lower()\n",
    "    words_in_article = word_tokenize(article[1])\n",
    "    \n",
    "    # remove extraneous words\n",
    "    filtered_words = [word.lower() for word in words_in_article if word.casefold() not in stop_words]\n",
    "\n",
    "    filtered_words\n",
    "    \n",
    "    \n",
    "    pos_avg, neg_avg = weightedAverage(filtered_words, sentimentAnalysis(filtered_words))\n",
    "    \n",
    "    print(f\"author: {author}, positive score: {pos_avg}, negative average: {neg_avg}\")\n",
    "    \n",
    "    \n",
    "    # store data in json\n",
    "    scores_for_author = persistent_dict.get_numbers(author)\n",
    "    \n",
    "    if scores_for_author != (None, None):\n",
    "        new_pos_score = (scores_for_author[0] + pos_avg) / 2\n",
    "        new_neg_score = (scores_for_author[1] + neg_avg) / 2\n",
    "        persistent_dict.set_numbers(author, new_pos_score, new_neg_score)\n",
    "    else:\n",
    "        persistent_dict.set_numbers(author, pos_avg, neg_avg)\n",
    "\n",
    "persistent_dict.save()\n"
   ]
  },
  {
   "cell_type": "markdown",
   "metadata": {},
   "source": [
    "Visualize Data"
   ]
  },
  {
   "cell_type": "code",
   "execution_count": 7,
   "metadata": {},
   "outputs": [
    {
     "name": "stdout",
     "output_type": "stream",
     "text": [
      "Name: motley fool, Numbers: 0.35372382812500003, -0.01193125\n",
      "Name: yahoo finance, Numbers: 0.11486607828140258, -0.23761797637939452\n",
      "Name: reuters, Numbers: 0.0, -0.09828124999999999\n",
      "Name: bloomberg, Numbers: 0.0, -0.5382333333333333\n"
     ]
    },
    {
     "data": {
      "image/png": "[encoded data removed]",
      "text/plain": [
       "<Figure size 640x480 with 1 Axes>"
      ]
     },
     "metadata": {},
     "output_type": "display_data"
    },
    {
     "data": {
      "text/plain": [
       "<Figure size 640x480 with 0 Axes>"
      ]
     },
     "metadata": {},
     "output_type": "display_data"
    }
   ],
   "source": [
    "data_dict = persistent_dict.data\n",
    "authors = []\n",
    "pos_scores = []\n",
    "neg_scores = []\n",
    "\n",
    "# loop through all the entries in the dict\n",
    "for name, numbers in data_dict.items():\n",
    "    print(f\"Name: {name}, Numbers: {numbers[0]}, {numbers[1]}\")\n",
    "    authors.append(name)\n",
    "    pos_scores.append(numbers[0])\n",
    "    neg_scores.append(numbers[1])\n",
    "    \n",
    "x = np.arange(len(authors))\n",
    "plt.bar(x, pos_scores, color='green', label='Positive Scores')\n",
    "plt.axhline(0, color='black', linestyle='dashed', linewidth=1)\n",
    "plt.bar(x, neg_scores, color='red', label='Negative Scores')\n",
    "\n",
    "plt.xlabel('Authors')\n",
    "plt.ylabel('Sentiment Scores')\n",
    "plt.title('Financial Article Sentiment by Author')\n",
    "\n",
    "plt.xticks(x, authors)\n",
    "\n",
    "plt.legend()\n",
    "\n",
    "plt.show()\n",
    "\n",
    "\n",
    "# for webapp\n",
    "plt.savefig('existing_plot.png')"
   ]
  }
 ],
 "metadata": {
  "kernelspec": {
   "display_name": "Python 3",
   "language": "python",
   "name": "python3"
  },
  "language_info": {
   "codemirror_mode": {
    "name": "ipython",
    "version": 3
   },
   "file_extension": ".py",
   "mimetype": "text/x-python",
   "name": "python",
   "nbconvert_exporter": "python",
   "pygments_lexer": "ipython3",
   "version": "3.11.4"
  }
 },
 "nbformat": 4,
 "nbformat_minor": 2
}
